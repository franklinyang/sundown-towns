{
 "cells": [
  {
   "cell_type": "code",
   "execution_count": 18,
   "metadata": {},
   "outputs": [],
   "source": [
    "import csv\n",
    "\n",
    "# TODO: Franklin -- clean up everything below to use the transform_helpers library\n",
    "from tools import transform_helpers"
   ]
  },
  {
   "cell_type": "code",
   "execution_count": 19,
   "metadata": {},
   "outputs": [
    {
     "ename": "FileNotFoundError",
     "evalue": "[Errno 2] No such file or directory: '../data/mapping_files/us_cities_to_county.csv'",
     "output_type": "error",
     "traceback": [
      "\u001b[0;31m---------------------------------------------------------------------------\u001b[0m",
      "\u001b[0;31mFileNotFoundError\u001b[0m                         Traceback (most recent call last)",
      "\u001b[0;32m<ipython-input-19-3a7b9be74908>\u001b[0m in \u001b[0;36m<module>\u001b[0;34m\u001b[0m\n\u001b[1;32m      2\u001b[0m \u001b[0;34m\u001b[0m\u001b[0m\n\u001b[1;32m      3\u001b[0m \u001b[0mcity_county_dict\u001b[0m \u001b[0;34m=\u001b[0m \u001b[0mdict\u001b[0m\u001b[0;34m(\u001b[0m\u001b[0;34m)\u001b[0m\u001b[0;34m\u001b[0m\u001b[0;34m\u001b[0m\u001b[0m\n\u001b[0;32m----> 4\u001b[0;31m \u001b[0;32mwith\u001b[0m \u001b[0mopen\u001b[0m\u001b[0;34m(\u001b[0m\u001b[0;34m'../data/mapping_files/us_cities_to_county.csv'\u001b[0m\u001b[0;34m)\u001b[0m \u001b[0;32mas\u001b[0m \u001b[0mcity_mapping_file\u001b[0m\u001b[0;34m:\u001b[0m\u001b[0;34m\u001b[0m\u001b[0;34m\u001b[0m\u001b[0m\n\u001b[0m\u001b[1;32m      5\u001b[0m     \u001b[0mcity_mapping_reader\u001b[0m \u001b[0;34m=\u001b[0m \u001b[0mcsv\u001b[0m\u001b[0;34m.\u001b[0m\u001b[0mDictReader\u001b[0m\u001b[0;34m(\u001b[0m\u001b[0mcity_mapping_file\u001b[0m\u001b[0;34m)\u001b[0m\u001b[0;34m\u001b[0m\u001b[0;34m\u001b[0m\u001b[0m\n\u001b[1;32m      6\u001b[0m     \u001b[0;32mfor\u001b[0m \u001b[0mc\u001b[0m \u001b[0;32min\u001b[0m \u001b[0mcity_mapping_reader\u001b[0m\u001b[0;34m:\u001b[0m\u001b[0;34m\u001b[0m\u001b[0;34m\u001b[0m\u001b[0m\n",
      "\u001b[0;31mFileNotFoundError\u001b[0m: [Errno 2] No such file or directory: '../data/mapping_files/us_cities_to_county.csv'"
     ]
    }
   ],
   "source": [
    "### We use this to map cities to counties ####\n",
    "\n",
    "city_county_dict = dict()\n",
    "with open('../data/mapping_files/us_cities_to_county.csv') as city_mapping_file:\n",
    "    city_mapping_reader = csv.DictReader(city_mapping_file)\n",
    "    for c in city_mapping_reader:\n",
    "        # need to add in state, otherwise get missed mappings\n",
    "        city_county_dict[(c['city'] + ' ' + c['state_id']).lower()] = c['county_name']"
   ]
  },
  {
   "cell_type": "code",
   "execution_count": 16,
   "metadata": {},
   "outputs": [],
   "source": [
    "import pandas as pd\n",
    "\n",
    "sundown_data = {}\n",
    "with open('../data/extracts/sundown_towns.csv') as sundown_file:\n",
    "    city_reader = csv.DictReader(sundown_file)\n",
    "    for r in city_reader:\n",
    "        city_state = r['city'] + ' ' + r['state']\n",
    "        if city_state.lower() in city_county_dict.keys():\n",
    "            data = r\n",
    "            data['county'] = city_county_dict[city_state.lower()] + ' County' +', ' + r['state']\n",
    "            sundown_data[r['id']] = data\n",
    "        elif 'County' in r['city']:\n",
    "            # print('missed mapping: {}'.format(r['city']))\n",
    "            data['county'] = r['city']\n",
    "            sundown_data[r['id']] = data"
   ]
  },
  {
   "cell_type": "code",
   "execution_count": 27,
   "metadata": {},
   "outputs": [],
   "source": [
    "def get_county_from_city(city, state, city_county_map):\n",
    "    city_to_county_output = {}\n",
    "    lookup_str = ' '.join([city, state]).lower()\n",
    "    if lookup_str in city_county_map.keys():\n",
    "        return city_county_map[lookup_str]\n",
    "    else:\n",
    "        print('missed mapping: ', city)"
   ]
  },
  {
   "cell_type": "code",
   "execution_count": 28,
   "metadata": {},
   "outputs": [],
   "source": [
    "# add county to city_shootings csv\n",
    "city_shootings = pd.read_csv('../data/extracts/police-killings-city.csv')\n",
    "city_shootings['county'] = city_shootings.apply(lambda r: get_county_from_city(r.City, r.State, city_county_dict) + ' County, {}'.format(r.State), axis=1)"
   ]
  },
  {
   "cell_type": "code",
   "execution_count": 30,
   "metadata": {},
   "outputs": [],
   "source": [
    "city_shootings.to_csv('../data/outputs/police-killings-county.csv')"
   ]
  },
  {
   "cell_type": "code",
   "execution_count": null,
   "metadata": {},
   "outputs": [],
   "source": []
  }
 ],
 "metadata": {
  "kernelspec": {
   "display_name": "venv",
   "language": "python",
   "name": "venv"
  },
  "language_info": {
   "codemirror_mode": {
    "name": "ipython",
    "version": 3
   },
   "file_extension": ".py",
   "mimetype": "text/x-python",
   "name": "python",
   "nbconvert_exporter": "python",
   "pygments_lexer": "ipython3",
   "version": "3.7.7"
  }
 },
 "nbformat": 4,
 "nbformat_minor": 2
}
