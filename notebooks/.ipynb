{
 "cells": [
  {
   "cell_type": "code",
   "execution_count": 1,
   "metadata": {},
   "outputs": [],
   "source": [
    "import csv"
   ]
  },
  {
   "cell_type": "code",
   "execution_count": null,
   "metadata": {},
   "outputs": [],
   "source": [
    "### We use this to map cities to counties ####\n",
    "\n",
    "city_county_dict = dict()\n",
    "with open('../data/us_cities_to_county.csv') as city_mapping_file:\n",
    "    city_mapping_reader = csv.DictReader(city_mapping_file)\n",
    "    for c in city_mapping_reader:\n",
    "        # need to add in state, otherwise get missed mappings\n",
    "        city_county_dict[(c['city'] + ' ' + c['state_id']).lower()] = c['county_name']"
   ]
  }
 ],
 "metadata": {
  "kernelspec": {
   "display_name": "venv",
   "language": "python",
   "name": "venv"
  },
  "language_info": {
   "codemirror_mode": {
    "name": "ipython",
    "version": 3
   },
   "file_extension": ".py",
   "mimetype": "text/x-python",
   "name": "python",
   "nbconvert_exporter": "python",
   "pygments_lexer": "ipython3",
   "version": "3.7.7"
  }
 },
 "nbformat": 4,
 "nbformat_minor": 2
}
